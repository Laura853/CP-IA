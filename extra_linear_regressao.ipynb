{
  "cells": [
    {
      "cell_type": "markdown",
      "metadata": {
        "id": "view-in-github",
        "colab_type": "text"
      },
      "source": [
        "<a href=\"https://colab.research.google.com/github/Laura853/CP-IA/blob/main/extra_linear_regressao.ipynb\" target=\"_parent\"><img src=\"https://colab.research.google.com/assets/colab-badge.svg\" alt=\"Open In Colab\"/></a>"
      ]
    },
    {
      "cell_type": "markdown",
      "id": "76592726",
      "metadata": {
        "id": "76592726"
      },
      "source": [
        "Introdução\n",
        "\n",
        "O projeto tem como objetivo desenvolver e otimizar um modelo de Regressão Linear Multivariada para previsão do preço de venda de imóveis, utilizando um conjunto de dados contendo diversas características das propriedades (como tamanho, número de quartos, localização, entre outros).\n",
        "\n",
        "A meta principal definida para o projeto é atingir um erro quadrático médio (RMSE) inferior a 130.000, demonstrando a capacidade preditiva e a eficiência do modelo em estimar preços próximos aos valores reais de mercado.\n",
        "\n",
        "Inicialmente, foram implementados modelos de regressão linear simples e um pipeline com seleção de features. Contudo, ambos apresentaram desempenho abaixo da meta esperada.\n",
        "Assim, neste notebook, foram aplicadas técnicas de otimização mantendo a natureza linear do modelo, incluindo:\n",
        "\n",
        "Padronização dos dados (StandardScaler), para equilibrar escalas e melhorar a convergência;\n",
        "\n",
        "Remoção de outliers via método interquartil (IQR), reduzindo distorções nos parâmetros;\n",
        "\n",
        "Geração de termos polinomiais de grau 2 (PolynomialFeatures), permitindo capturar relações não lineares entre variáveis explicativas;\n",
        "\n",
        "Seleção de variáveis (SelectKBest) com base na correlação estatística (f_regression);\n",
        "\n",
        "Busca de hiperparâmetros (GridSearchCV), para definir automaticamente o melhor número de variáveis e o grau polinomial ideal.\n",
        "\n",
        "Essas melhorias visam aumentar a precisão preditiva do modelo e reduzir o RMSE abaixo do limite estipulado, sem alterar a estrutura conceitual do projeto ou recorrer a algoritmos não lineares."
      ]
    },
    {
      "cell_type": "code",
      "execution_count": 12,
      "id": "e65db518",
      "metadata": {
        "id": "e65db518"
      },
      "outputs": [],
      "source": [
        "# 1) Encontrar e carregar o dataset automaticamente\n",
        "import numpy as np\n",
        "import pandas as pd\n",
        "from sklearn.model_selection import train_test_split, cross_val_score, GridSearchCV\n",
        "from sklearn.ensemble import RandomForestRegressor, GradientBoostingRegressor\n",
        "from sklearn.linear_model import Ridge, Lasso, ElasticNet\n",
        "from sklearn.preprocessing import StandardScaler, PowerTransformer\n",
        "from sklearn.metrics import mean_squared_error, r2_score, mean_absolute_error\n",
        "from sklearn.feature_selection import SelectFromModel\n",
        "import xgboost as xgb\n",
        "import warnings"
      ]
    },
    {
      "cell_type": "code",
      "source": [
        "# Preparar os dados\n",
        "from sklearn.datasets import fetch_openml\n",
        "\n",
        "dados = fetch_openml(data_id=42731)\n",
        "\n",
        "dados"
      ],
      "metadata": {
        "colab": {
          "base_uri": "https://localhost:8080/"
        },
        "id": "HW-psaAWGKay",
        "outputId": "ff3512c9-ddba-4b3c-c02f-d3d451ccd046"
      },
      "id": "HW-psaAWGKay",
      "execution_count": 13,
      "outputs": [
        {
          "output_type": "execute_result",
          "data": {
            "text/plain": [
              "{'data':        bedrooms  bathrooms  sqft_living  sqft_lot  floors  waterfront  view  \\\n",
              " 0             3       1.00         1180      5650     1.0           0     0   \n",
              " 1             3       2.25         2570      7242     2.0           0     0   \n",
              " 2             2       1.00          770     10000     1.0           0     0   \n",
              " 3             4       3.00         1960      5000     1.0           0     0   \n",
              " 4             3       2.00         1680      8080     1.0           0     0   \n",
              " ...         ...        ...          ...       ...     ...         ...   ...   \n",
              " 21608         3       2.50         1530      1131     3.0           0     0   \n",
              " 21609         4       2.50         2310      5813     2.0           0     0   \n",
              " 21610         2       0.75         1020      1350     2.0           0     0   \n",
              " 21611         3       2.50         1600      2388     2.0           0     0   \n",
              " 21612         2       0.75         1020      1076     2.0           0     0   \n",
              " \n",
              "        condition  grade  sqft_above  ...  yr_built  yr_renovated  zipcode  \\\n",
              " 0              3      7        1180  ...      1955             0    98178   \n",
              " 1              3      7        2170  ...      1951          1991    98125   \n",
              " 2              3      6         770  ...      1933             0    98028   \n",
              " 3              5      7        1050  ...      1965             0    98136   \n",
              " 4              3      8        1680  ...      1987             0    98074   \n",
              " ...          ...    ...         ...  ...       ...           ...      ...   \n",
              " 21608          3      8        1530  ...      2009             0    98103   \n",
              " 21609          3      8        2310  ...      2014             0    98146   \n",
              " 21610          3      7        1020  ...      2009             0    98144   \n",
              " 21611          3      8        1600  ...      2004             0    98027   \n",
              " 21612          3      7        1020  ...      2008             0    98144   \n",
              " \n",
              "            lat     long  sqft_living15  sqft_lot15  date_year  date_month  \\\n",
              " 0      47.5112 -122.257           1340        5650       2014          10   \n",
              " 1      47.7210 -122.319           1690        7639       2014          12   \n",
              " 2      47.7379 -122.233           2720        8062       2015           2   \n",
              " 3      47.5208 -122.393           1360        5000       2014          12   \n",
              " 4      47.6168 -122.045           1800        7503       2015           2   \n",
              " ...        ...      ...            ...         ...        ...         ...   \n",
              " 21608  47.6993 -122.346           1530        1509       2014           5   \n",
              " 21609  47.5107 -122.362           1830        7200       2015           2   \n",
              " 21610  47.5944 -122.299           1020        2007       2014           6   \n",
              " 21611  47.5345 -122.069           1410        1287       2015           1   \n",
              " 21612  47.5941 -122.299           1020        1357       2014          10   \n",
              " \n",
              "        date_day  \n",
              " 0            13  \n",
              " 1             9  \n",
              " 2            25  \n",
              " 3             9  \n",
              " 4            18  \n",
              " ...         ...  \n",
              " 21608        21  \n",
              " 21609        23  \n",
              " 21610        23  \n",
              " 21611        16  \n",
              " 21612        15  \n",
              " \n",
              " [21613 rows x 21 columns],\n",
              " 'target': 0        221900.0\n",
              " 1        538000.0\n",
              " 2        180000.0\n",
              " 3        604000.0\n",
              " 4        510000.0\n",
              "            ...   \n",
              " 21608    360000.0\n",
              " 21609    400000.0\n",
              " 21610    402101.0\n",
              " 21611    400000.0\n",
              " 21612    325000.0\n",
              " Name: price, Length: 21613, dtype: float64,\n",
              " 'frame':           price  bedrooms  bathrooms  sqft_living  sqft_lot  floors  \\\n",
              " 0      221900.0         3       1.00         1180      5650     1.0   \n",
              " 1      538000.0         3       2.25         2570      7242     2.0   \n",
              " 2      180000.0         2       1.00          770     10000     1.0   \n",
              " 3      604000.0         4       3.00         1960      5000     1.0   \n",
              " 4      510000.0         3       2.00         1680      8080     1.0   \n",
              " ...         ...       ...        ...          ...       ...     ...   \n",
              " 21608  360000.0         3       2.50         1530      1131     3.0   \n",
              " 21609  400000.0         4       2.50         2310      5813     2.0   \n",
              " 21610  402101.0         2       0.75         1020      1350     2.0   \n",
              " 21611  400000.0         3       2.50         1600      2388     2.0   \n",
              " 21612  325000.0         2       0.75         1020      1076     2.0   \n",
              " \n",
              "        waterfront  view  condition  grade  ...  yr_built  yr_renovated  \\\n",
              " 0               0     0          3      7  ...      1955             0   \n",
              " 1               0     0          3      7  ...      1951          1991   \n",
              " 2               0     0          3      6  ...      1933             0   \n",
              " 3               0     0          5      7  ...      1965             0   \n",
              " 4               0     0          3      8  ...      1987             0   \n",
              " ...           ...   ...        ...    ...  ...       ...           ...   \n",
              " 21608           0     0          3      8  ...      2009             0   \n",
              " 21609           0     0          3      8  ...      2014             0   \n",
              " 21610           0     0          3      7  ...      2009             0   \n",
              " 21611           0     0          3      8  ...      2004             0   \n",
              " 21612           0     0          3      7  ...      2008             0   \n",
              " \n",
              "        zipcode      lat     long  sqft_living15  sqft_lot15  date_year  \\\n",
              " 0        98178  47.5112 -122.257           1340        5650       2014   \n",
              " 1        98125  47.7210 -122.319           1690        7639       2014   \n",
              " 2        98028  47.7379 -122.233           2720        8062       2015   \n",
              " 3        98136  47.5208 -122.393           1360        5000       2014   \n",
              " 4        98074  47.6168 -122.045           1800        7503       2015   \n",
              " ...        ...      ...      ...            ...         ...        ...   \n",
              " 21608    98103  47.6993 -122.346           1530        1509       2014   \n",
              " 21609    98146  47.5107 -122.362           1830        7200       2015   \n",
              " 21610    98144  47.5944 -122.299           1020        2007       2014   \n",
              " 21611    98027  47.5345 -122.069           1410        1287       2015   \n",
              " 21612    98144  47.5941 -122.299           1020        1357       2014   \n",
              " \n",
              "        date_month  date_day  \n",
              " 0              10        13  \n",
              " 1              12         9  \n",
              " 2               2        25  \n",
              " 3              12         9  \n",
              " 4               2        18  \n",
              " ...           ...       ...  \n",
              " 21608           5        21  \n",
              " 21609           2        23  \n",
              " 21610           6        23  \n",
              " 21611           1        16  \n",
              " 21612          10        15  \n",
              " \n",
              " [21613 rows x 22 columns],\n",
              " 'categories': None,\n",
              " 'feature_names': ['bedrooms',\n",
              "  'bathrooms',\n",
              "  'sqft_living',\n",
              "  'sqft_lot',\n",
              "  'floors',\n",
              "  'waterfront',\n",
              "  'view',\n",
              "  'condition',\n",
              "  'grade',\n",
              "  'sqft_above',\n",
              "  'sqft_basement',\n",
              "  'yr_built',\n",
              "  'yr_renovated',\n",
              "  'zipcode',\n",
              "  'lat',\n",
              "  'long',\n",
              "  'sqft_living15',\n",
              "  'sqft_lot15',\n",
              "  'date_year',\n",
              "  'date_month',\n",
              "  'date_day'],\n",
              " 'target_names': ['price'],\n",
              " 'DESCR': \"Date converted to year/mo/day numerics.This dataset contains house sale prices for King County, which includes Seattle. It includes homes sold between May 2014 and May 2015.\\n\\nIt contains 19 house features plus the price and the id columns, along with 21613 observations.\\nIt's a great dataset for evaluating simple regression models.\\n\\nDownloaded from openml.org.\",\n",
              " 'details': {'id': '42731',\n",
              "  'name': 'house_sales',\n",
              "  'version': '3',\n",
              "  'description_version': '1',\n",
              "  'format': 'arff',\n",
              "  'creator': 'https://www.kaggle.com/harlfoxem/',\n",
              "  'contributor': 'https://www.kaggle.com/harlfoxem/',\n",
              "  'collection_date': '2016-08-25',\n",
              "  'upload_date': '2020-11-18T08:51:57',\n",
              "  'language': 'English',\n",
              "  'licence': 'CC0 Public Domain',\n",
              "  'url': 'https://api.openml.org/data/v1/download/22044765/house_sales.arff',\n",
              "  'parquet_url': 'https://data.openml.org/datasets/0004/42731/dataset_42731.pq',\n",
              "  'file_id': '22044765',\n",
              "  'default_target_attribute': 'price',\n",
              "  'row_id_attribute': 'id',\n",
              "  'visibility': 'public',\n",
              "  'original_data_url': 'https://www.kaggle.com/harlfoxem/housesalesprediction',\n",
              "  'minio_url': 'https://data.openml.org/datasets/0004/42731/dataset_42731.pq',\n",
              "  'status': 'active',\n",
              "  'processing_date': '2020-11-18 08:52:04',\n",
              "  'md5_checksum': 'ea7b46e10234119ae2ac9a262c320420'},\n",
              " 'url': 'https://www.openml.org/d/42731'}"
            ]
          },
          "metadata": {},
          "execution_count": 13
        }
      ]
    },
    {
      "cell_type": "code",
      "execution_count": 14,
      "id": "5b17bfb7",
      "metadata": {
        "colab": {
          "base_uri": "https://localhost:8080/"
        },
        "id": "5b17bfb7",
        "outputId": "6165b783-0398-421f-f9d2-b48080c61c73"
      },
      "outputs": [
        {
          "output_type": "stream",
          "name": "stdout",
          "text": [
            "Shape: (21613, 22)\n",
            "\n",
            "Colunas:\n",
            " ['price', 'bedrooms', 'bathrooms', 'sqft_living', 'sqft_lot', 'floors', 'waterfront', 'view', 'condition', 'grade', 'sqft_above', 'sqft_basement', 'yr_built', 'yr_renovated', 'zipcode', 'lat', 'long', 'sqft_living15', 'sqft_lot15', 'date_year', 'date_month', 'date_day']\n",
            "Coluna alvo escolhida: price\n"
          ]
        }
      ],
      "source": [
        "# 2) Inspeção rápida e definição de variável resposta\n",
        "import numpy as np\n",
        "df = dados.frame\n",
        "print('Shape:', df.shape)\n",
        "print('\\nColunas:\\n', df.columns.tolist())\n",
        "\n",
        "# Procurar colunas candidatas para o target\n",
        "candidates = [c for c in df.columns if any(x in c.lower() for x in ['price','preco','valor','sale'])]\n",
        "if candidates:\n",
        "    target_col = candidates[0]\n",
        "else:\n",
        "    # fallback: escolher a última coluna numérica\n",
        "    num_cols = df.select_dtypes(include=[np.number]).columns.tolist()\n",
        "    if not num_cols:\n",
        "        raise ValueError('Nenhuma coluna numérica encontrada para ser target.')\n",
        "    target_col = num_cols[-1]\n",
        "\n",
        "print('Coluna alvo escolhida:', target_col)\n",
        "y = df[target_col].copy()\n",
        "X = df.drop(columns=[target_col])"
      ]
    },
    {
      "cell_type": "code",
      "execution_count": 15,
      "id": "6b5ef87b",
      "metadata": {
        "colab": {
          "base_uri": "https://localhost:8080/"
        },
        "id": "6b5ef87b",
        "outputId": "515526dc-decf-4d0d-cd29-3205ba309e83"
      },
      "outputs": [
        {
          "output_type": "stream",
          "name": "stdout",
          "text": [
            "Depois de get_dummies, shape X: (21613, 89)\n"
          ]
        }
      ],
      "source": [
        "# 3) Limpeza básica: remover NA, codificar categóricas com get_dummies, e padronizar tipos\n",
        "df_orig = df.copy()\n",
        "\n",
        "# Drop linhas com NA na target\n",
        "mask = y.notna()\n",
        "X = X[mask]\n",
        "y = y[mask]\n",
        "\n",
        "X = pd.get_dummies(X, drop_first=True)\n",
        "\n",
        "print('Depois de get_dummies, shape X:', X.shape)"
      ]
    },
    {
      "cell_type": "code",
      "execution_count": 16,
      "id": "add520ff",
      "metadata": {
        "colab": {
          "base_uri": "https://localhost:8080/"
        },
        "id": "add520ff",
        "outputId": "6241c0f5-c3c0-4ed0-c0b6-255cecbaa5ee"
      },
      "outputs": [
        {
          "output_type": "stream",
          "name": "stdout",
          "text": [
            "Antes: (21613, 89) Depois: (14934, 89)\n"
          ]
        }
      ],
      "source": [
        "# 4) Remoção de outliers (IQR) nas features numéricas e no target\n",
        "from scipy import stats\n",
        "import numpy as np\n",
        "\n",
        "def remove_outliers_iqr(X, y, factor=1.5):\n",
        "    num_idx = X.select_dtypes(include=[np.number]).columns\n",
        "    Xn = X.copy()\n",
        "    mask = np.ones(len(Xn), dtype=bool)\n",
        "    # aplicando IQR por coluna numérica\n",
        "    for col in num_idx:\n",
        "        q1 = Xn[col].quantile(0.25)\n",
        "        q3 = Xn[col].quantile(0.75)\n",
        "        iqr = q3 - q1\n",
        "        low = q1 - factor * iqr\n",
        "        high = q3 + factor * iqr\n",
        "        mask &= (Xn[col] >= low) & (Xn[col] <= high)\n",
        "    # filtrando target por IQR\n",
        "    q1 = y.quantile(0.25); q3 = y.quantile(0.75); iqr = q3 - q1\n",
        "    low = q1 - factor * iqr; high = q3 + factor * iqr\n",
        "    mask &= (y >= low) & (y <= high)\n",
        "    return Xn[mask], y[mask]\n",
        "\n",
        "X_clean, y_clean = remove_outliers_iqr(X, y, factor=1.5)\n",
        "print('Antes:', X.shape, 'Depois:', X_clean.shape)"
      ]
    },
    {
      "cell_type": "code",
      "execution_count": 17,
      "id": "ae4d489c",
      "metadata": {
        "colab": {
          "base_uri": "https://localhost:8080/"
        },
        "id": "ae4d489c",
        "outputId": "ef0b2b57-1e6b-47a8-ef66-530582301d33"
      },
      "outputs": [
        {
          "output_type": "stream",
          "name": "stdout",
          "text": [
            "Treino: (11947, 89) Teste: (2987, 89)\n"
          ]
        }
      ],
      "source": [
        "# 5) Divisão treino/teste\n",
        "from sklearn.model_selection import train_test_split\n",
        "X_train, X_test, y_train, y_test = train_test_split(X_clean, y_clean, test_size=0.2, random_state=42)\n",
        "print('Treino:', X_train.shape, 'Teste:', X_test.shape)"
      ]
    },
    {
      "cell_type": "code",
      "execution_count": 18,
      "id": "5e5b3359",
      "metadata": {
        "colab": {
          "base_uri": "https://localhost:8080/"
        },
        "id": "5e5b3359",
        "outputId": "d245c888-8cfd-46e9-8d92-83616ed7153a"
      },
      "outputs": [
        {
          "output_type": "stream",
          "name": "stdout",
          "text": [
            "Fitting 5 folds for each of 8 candidates, totalling 40 fits\n",
            "Melhor combo: {'poly__degree': 2, 'select__k': 'all'}\n",
            "Melhor score (neg MSE): -4288357609.3239694\n"
          ]
        }
      ],
      "source": [
        "# 6) Pipeline: StandardScaler -> PolynomialFeatures -> SelectKBest -> LinearRegression\n",
        "from sklearn.pipeline import Pipeline\n",
        "from sklearn.preprocessing import StandardScaler, PolynomialFeatures\n",
        "from sklearn.feature_selection import SelectKBest, f_regression\n",
        "from sklearn.linear_model import LinearRegression\n",
        "from sklearn.model_selection import GridSearchCV\n",
        "\n",
        "pipe = Pipeline([\n",
        "    ('scaler', StandardScaler()),\n",
        "    ('poly', PolynomialFeatures(degree=2, include_bias=False, interaction_only=False)),\n",
        "    ('select', SelectKBest(score_func=f_regression)),\n",
        "    ('lr', LinearRegression())\n",
        "])\n",
        "\n",
        "# Grid para buscar melhor número de features após seleção e grau polinomial (1 ou 2)\n",
        "param_grid = {\n",
        "    'poly__degree': [1, 2],\n",
        "    # experimentando alguns valores de k proporcional ao número de features\n",
        "    'select__k': [10, 20, 30, 'all']\n",
        "}\n",
        "\n",
        "# scorer usa neg_mean_squared_error (GridSearch maximiza)\n",
        "gscv = GridSearchCV(pipe, param_grid, scoring='neg_mean_squared_error', cv=5, n_jobs=-1, verbose=2)\n",
        "gscv.fit(X_train, y_train)\n",
        "\n",
        "print('Melhor combo:', gscv.best_params_)\n",
        "print('Melhor score (neg MSE):', gscv.best_score_)"
      ]
    },
    {
      "cell_type": "code",
      "execution_count": 19,
      "id": "6eab05fc",
      "metadata": {
        "colab": {
          "base_uri": "https://localhost:8080/"
        },
        "id": "6eab05fc",
        "outputId": "609e204f-56a9-4005-fbe1-c47ff35d8c25"
      },
      "outputs": [
        {
          "output_type": "stream",
          "name": "stdout",
          "text": [
            "MSE: 4279352175.39\n",
            "RMSE: 65416.76\n",
            "MAE: 45257.53\n",
            "R2: 0.8693\n",
            "Erro Percentual Médio: 11.05%\n"
          ]
        }
      ],
      "source": [
        "# 7) Avaliação no conjunto de teste\n",
        "import numpy as np\n",
        "from sklearn.metrics import mean_squared_error, mean_absolute_error, r2_score\n",
        "\n",
        "best = gscv.best_estimator_\n",
        "y_pred = best.predict(X_test)\n",
        "\n",
        "mse = mean_squared_error(y_test, y_pred)\n",
        "rmse = np.sqrt(mse)\n",
        "mae = mean_absolute_error(y_test, y_pred)\n",
        "r2 = r2_score(y_test, y_pred)\n",
        "err_percent = (np.mean(np.abs(y_test - y_pred) / (y_test + 1e-9))) * 100\n",
        "\n",
        "print(f'MSE: {mse:.2f}')\n",
        "print(f'RMSE: {rmse:.2f}')\n",
        "print(f'MAE: {mae:.2f}')\n",
        "print(f'R2: {r2:.4f}')\n",
        "print(f'Erro Percentual Médio: {err_percent:.2f}%')"
      ]
    },
    {
      "cell_type": "code",
      "execution_count": 20,
      "id": "2176f43a",
      "metadata": {
        "colab": {
          "base_uri": "https://localhost:8080/"
        },
        "id": "2176f43a",
        "outputId": "a62eb2ee-ec50-42cf-eff4-273fca2b7720"
      },
      "outputs": [
        {
          "output_type": "stream",
          "name": "stdout",
          "text": [
            "Precisão dentro de 20%: 86.31%\n",
            "\n",
            " OBJETIVO ATINGIDO: RMSE abaixo de 130.000\n"
          ]
        }
      ],
      "source": [
        "# 8) Precisão dentro de 20% e resumo final\n",
        "within_20 = ((np.abs(y_test - y_pred) / (y_test + 1e-9)) <= 0.20).mean() * 100\n",
        "print(f'Precisão dentro de 20%: {within_20:.2f}%')\n",
        "\n",
        "if rmse < 130000:\n",
        "    print('\\n OBJETIVO ATINGIDO: RMSE abaixo de 130.000')\n",
        "else:\n",
        "    print('\\n OBJETIVO NÃO ATINGIDO: RMSE ainda acima de 130.000')"
      ]
    },
    {
      "cell_type": "markdown",
      "id": "481adf57",
      "metadata": {
        "id": "481adf57"
      },
      "source": [
        "Conclusão\n",
        "\n",
        "Após a aplicação das técnicas de otimização propostas, o modelo apresentou melhoria significativa em suas métricas de desempenho.\n",
        "O RMSE final ficou abaixo da meta de 130.000, indicando que o modelo conseguiu realizar previsões com erro médio dentro do limite definido para o projeto.\n",
        "\n",
        "Além disso, o coeficiente de determinação (R²) apresentou valor satisfatório, demonstrando que uma parcela expressiva da variação do preço dos imóveis pôde ser explicada pelas variáveis independentes selecionadas.\n",
        "\n",
        "De forma geral, as etapas de limpeza dos dados, remoção de outliers e padronização, aliadas à geração de features polinomiais e à seleção automática de variáveis, foram essenciais para o ganho de desempenho obtido.\n",
        "\n",
        "📈 O resultado final comprova que é possível, por meio de técnicas estatísticas e de engenharia de atributos, aperfeiçoar um modelo de regressão linear tradicional para atingir níveis de precisão compatíveis com o objetivo do projeto."
      ]
    }
  ],
  "metadata": {
    "colab": {
      "provenance": [],
      "include_colab_link": true
    },
    "language_info": {
      "name": "python"
    },
    "kernelspec": {
      "name": "python3",
      "display_name": "Python 3"
    }
  },
  "nbformat": 4,
  "nbformat_minor": 5
}